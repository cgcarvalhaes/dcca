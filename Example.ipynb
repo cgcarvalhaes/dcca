{
 "cells": [
  {
   "cell_type": "code",
   "execution_count": 6,
   "metadata": {
    "collapsed": true
   },
   "outputs": [],
   "source": [
    "import numpy as np\n",
    "import matplotlib.pyplot as plt\n",
    "\n",
    "from dcca import dcca"
   ]
  },
  {
   "cell_type": "code",
   "execution_count": 2,
   "metadata": {
    "collapsed": true
   },
   "outputs": [],
   "source": [
    "np.random.seed(1)"
   ]
  },
  {
   "cell_type": "code",
   "execution_count": 3,
   "metadata": {
    "collapsed": true
   },
   "outputs": [],
   "source": [
    "x = np.random.rand(1000)\n",
    "y = np.random.rand(1000)"
   ]
  },
  {
   "cell_type": "code",
   "execution_count": 13,
   "metadata": {},
   "outputs": [
    {
     "name": "stdout",
     "output_type": "stream",
     "text": [
      "1 44\n",
      "2 44\n",
      "3 44\n",
      "4 44\n",
      "5 44\n",
      "6 44\n",
      "7 44\n",
      "8 44\n",
      "9 44\n",
      "10 44\n",
      "11 44\n",
      "12 44\n",
      "13 44\n",
      "14 44\n",
      "15 44\n",
      "16 44\n",
      "17 44\n",
      "18 44\n",
      "19 44\n",
      "20 44\n",
      "21 44\n",
      "22 44\n",
      "23 44\n",
      "24 44\n",
      "25 44\n",
      "26 44\n",
      "27 44\n",
      "28 44\n",
      "29 44\n",
      "30 44\n",
      "31 44\n",
      "32 44\n",
      "33 44\n",
      "34 44\n",
      "35 44\n",
      "36 44\n",
      "37 44\n",
      "38 44\n",
      "39 44\n",
      "40 44\n",
      "41 44\n",
      "42 44\n",
      "43 44\n",
      "44 44\n"
     ]
    }
   ],
   "source": [
    "box_sizes_list, rho, Fxx, Fyy, Fxy2 = dcca(x, y, verbose_print=print)"
   ]
  },
  {
   "cell_type": "code",
   "execution_count": 12,
   "metadata": {},
   "outputs": [
    {
     "data": {
      "image/png": "[encoded data removed]",
      "text/plain": [
       "<matplotlib.figure.Figure at 0x7f52ee0e6c18>"
      ]
     },
     "metadata": {},
     "output_type": "display_data"
    }
   ],
   "source": [
    "fig, axes = plt.subplots(nrows=2, sharex=True)\n",
    "axes[0].plot(box_sizes_list, Fxx, label=\"Fx(n)\")\n",
    "axes[0].plot(box_sizes_list, Fyy, label=\"Fy(n)\")\n",
    "axes[0].plot(box_sizes_list, Fxy2, label=\"Fxy2(n)\")\n",
    "axes[0].set_xlabel(\"Box Size (n)\")\n",
    "axes[0].text(.5, .9, 'DFA coefficients', horizontalalignment='center', transform=axes[0].transAxes)\n",
    "axes[0].legend(loc='upper left')\n",
    "axes[1].semilogx(box_sizes_list, rho)\n",
    "axes[1].set_xlabel(\"Box Size (n)\")\n",
    "axes[1].text(.5, .9, 'rho_dcca (n)', horizontalalignment='center', transform=axes[1].transAxes)\n",
    "axes[1].axhline(ls=\"--\", color='gray')\n",
    "axes[1].set_ylim([-1, 1])\n",
    "plt.show()"
   ]
  },
  {
   "cell_type": "code",
   "execution_count": null,
   "metadata": {
    "collapsed": true
   },
   "outputs": [],
   "source": []
  }
 ],
 "metadata": {
  "kernelspec": {
   "display_name": "Python 3",
   "language": "python",
   "name": "python3"
  },
  "language_info": {
   "codemirror_mode": {
    "name": "ipython",
    "version": 3
   },
   "file_extension": ".py",
   "mimetype": "text/x-python",
   "name": "python",
   "nbconvert_exporter": "python",
   "pygments_lexer": "ipython3",
   "version": "3.6.3"
  }
 },
 "nbformat": 4,
 "nbformat_minor": 2
}
